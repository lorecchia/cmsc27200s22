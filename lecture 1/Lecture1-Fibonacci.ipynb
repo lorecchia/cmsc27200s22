{
 "cells": [
  {
   "cell_type": "markdown",
   "metadata": {
    "slideshow": {
     "slide_type": "slide"
    }
   },
   "source": [
    "# Fibonacci Sequence\n",
    "\n",
    "__Recursive Definition__: The $n$th Fibonacci number $F_n$ is defined as\n",
    "\\\n",
    "\\\n",
    "\\\n",
    "$$\n",
    "F_n = \\begin{cases} \n",
    "        0 & n=0\\\\\n",
    "        1 & n=1\\\\\n",
    "        F_{n-1} + F_{n-2} & n > 1\n",
    "      \\end{cases}\n",
    "$$\n",
    "\\\n",
    "\\\n",
    "\\\n",
    "__Question__: Why is this even a valid definition?"
   ]
  },
  {
   "cell_type": "markdown",
   "metadata": {
    "slideshow": {
     "slide_type": "fragment"
    }
   },
   "source": [
    "__Rate of Growth__: How fast does $F_n$ grow?"
   ]
  },
  {
   "cell_type": "markdown",
   "metadata": {
    "slideshow": {
     "slide_type": "slide"
    }
   },
   "source": [
    "## Computing $F_n$\n",
    "\n",
    "__Problem__: Design algorithm that on _input_ $n$ returns _output_ $F_n$.\n",
    "\n",
    "- Algorithm Description\n",
    "   \n",
    "    \n",
    "- Algorithm Analysis\n",
    "    - Proof of Correctness\n",
    "    - Analysis of Running Time\n"
   ]
  },
  {
   "cell_type": "markdown",
   "metadata": {
    "slideshow": {
     "slide_type": "slide"
    }
   },
   "source": [
    "### Algorithm Description\n",
    "\n",
    "Description can be _pseudocode_ or _prose_ \n",
    "\n",
    "__Prose__: implement definition of $F_n$."
   ]
  },
  {
   "cell_type": "markdown",
   "metadata": {
    "slideshow": {
     "slide_type": "fragment"
    }
   },
   "source": [
    "__No description by example__: start with $F_0=0$ and $F_1=1$.   \n",
    "Compute $F_2 = F_0+ F_1= 0+1$.And $F_3 = F_1 +F_2 = 1+1=2.$   \n",
    "Keep going like this until $F_n.$ "
   ]
  },
  {
   "cell_type": "markdown",
   "metadata": {
    "slideshow": {
     "slide_type": "slide"
    }
   },
   "source": [
    "__Pseudocode__:\n",
    "\n",
    "<img src=\"fib1.png\" height=\"600\">\n"
   ]
  },
  {
   "cell_type": "markdown",
   "metadata": {
    "slideshow": {
     "slide_type": "fragment"
    }
   },
   "source": [
    "Even nicer with line numbers!"
   ]
  },
  {
   "cell_type": "markdown",
   "metadata": {
    "slideshow": {
     "slide_type": "fragment"
    }
   },
   "source": [
    "__Question__: What are trade-offs between prose and pseudocode descriptions?  "
   ]
  },
  {
   "cell_type": "code",
   "execution_count": null,
   "metadata": {
    "slideshow": {
     "slide_type": "slide"
    }
   },
   "outputs": [],
   "source": [
    "### PYTHON IMPLEMENTATION\n",
    "###\n",
    "### Actual code makes for POOR PSEUDOCODE\n",
    "###\n",
    "\n",
    "import numpy as np\n",
    "import matplotlib.pyplot as plt\n",
    "import timeit\n",
    "import math\n",
    "\n",
    "def fib1(n):\n",
    "    if n == 0:\n",
    "        return 0\n",
    "    elif n == 1:\n",
    "        return 1\n",
    "    else:\n",
    "        return fib1(n-1) + fib1(n-2)"
   ]
  },
  {
   "cell_type": "code",
   "execution_count": null,
   "metadata": {
    "slideshow": {
     "slide_type": "fragment"
    }
   },
   "outputs": [],
   "source": [
    "### TEST RUN\n",
    "fib = [fib1(n) for n in range(0,35)]\n",
    "fib"
   ]
  },
  {
   "cell_type": "markdown",
   "metadata": {
    "slideshow": {
     "slide_type": "slide"
    }
   },
   "source": [
    "\n",
    "\n",
    "### Proof of Correctness\n",
    "\n",
    "__Sketch of Proof:__ The algorithm implements the recursive definition of $F_n.$"
   ]
  },
  {
   "cell_type": "markdown",
   "metadata": {
    "slideshow": {
     "slide_type": "fragment"
    }
   },
   "source": [
    "__Mathematical Proof:__ \n",
    "\n",
    "__Theorem__: For all $n \\geq 0,$ fib1($n$) returns $F_n.$  \n",
    "__Proof__: We prove this statement by (strong) induction. \n",
    "\n",
    "- The statement is true for $n=0$ and $n=1$ as encoded by the first two lines of its description.  \n",
    "\n",
    "- For an arbitrary $n > 1,$ fib1($n$) executes the last line of the algorithm, which recursively computes fib1($n-1$) and fib1($n-2$).\n",
    "\\\n",
    "By the inductive hypothesis, the call fib1($n-1$) returns $F_{n-1}$ and the call fib1($n-2$) returns $F_{n-2}$.\n",
    "\\\n",
    "Hence, the execution of the last line returns $F_{n-1} + F_{n-2}$, which equals $F_n$ by definition.\n",
    "\n",
    "<img src=\"fib1.png\" height=\"600\">\n"
   ]
  },
  {
   "cell_type": "markdown",
   "metadata": {
    "slideshow": {
     "slide_type": "fragment"
    }
   },
   "source": [
    "__QUESTION__: which level of detail is more appropriate?"
   ]
  },
  {
   "cell_type": "markdown",
   "metadata": {
    "slideshow": {
     "slide_type": "slide"
    }
   },
   "source": [
    "### Analysis of Running Time"
   ]
  },
  {
   "cell_type": "code",
   "execution_count": null,
   "metadata": {
    "slideshow": {
     "slide_type": "fragment"
    }
   },
   "outputs": [],
   "source": [
    "### TEST TIMES FOR A FEW n\n",
    "n=25\n",
    "for i in range (n,n+10):\n",
    "    %time fib1(i)\n"
   ]
  },
  {
   "cell_type": "markdown",
   "metadata": {
    "slideshow": {
     "slide_type": "fragment"
    }
   },
   "source": [
    "These times depend on the machine setup and even change on reruns. \n",
    "Agree on __unit-cost__ operations. For instance, let us assume that all arithmetic/logic operations have unit cost.\n",
    "\n",
    "Let $T(n)$ be the cost of running fib1 on input $n$. \n",
    "\n",
    "![fib1](./fib1.png)"
   ]
  },
  {
   "cell_type": "markdown",
   "metadata": {
    "slideshow": {
     "slide_type": "fragment"
    }
   },
   "source": [
    "__CONCLUSION__: Running time is _exponential_ in $n$!"
   ]
  },
  {
   "cell_type": "markdown",
   "metadata": {
    "slideshow": {
     "slide_type": "subslide"
    }
   },
   "source": [
    "![Recursive Tree](./rectree.png)"
   ]
  },
  {
   "cell_type": "code",
   "execution_count": null,
   "metadata": {
    "slideshow": {
     "slide_type": "slide"
    }
   },
   "outputs": [],
   "source": [
    "### EMPIRICAL RUNTIME ANALYSIS OF FIB1\n",
    "\n",
    "rtime = [timeit.timeit(stmt='fib1({})'.format(n),globals=globals(),number=1) for n in range(0,35)]    \n",
    "plt.plot(range(0,35), rtime, 'or')"
   ]
  },
  {
   "cell_type": "markdown",
   "metadata": {
    "slideshow": {
     "slide_type": "slide"
    }
   },
   "source": [
    "## An Improved Algorithm\n",
    "\n",
    "__Simple idea__: Compute each intermediate $F_i$ only once and store their value.\n",
    "\n",
    "![fib2](fib2.png)\n",
    "\n",
    "__Question__: Could this pseudocode be improved?"
   ]
  },
  {
   "cell_type": "code",
   "execution_count": null,
   "metadata": {
    "slideshow": {
     "slide_type": "fragment"
    }
   },
   "outputs": [],
   "source": [
    "### PYTHON IMPLEMENTATION of fib 2\n",
    "###\n",
    "### Even more in this case, Python code is not a good replacement for pseudocode. \n",
    "### Python does not provide dynamically sized arrays natively\n",
    "\n",
    "def fib2(n):\n",
    "    if n == 0: \n",
    "        return 0\n",
    "    else:\n",
    "        f=[0,1]\n",
    "        for i in range(2,n+1):\n",
    "            f.append(f[i-1]+f[i-2])\n",
    "        return f[n]\n",
    "    "
   ]
  },
  {
   "cell_type": "code",
   "execution_count": null,
   "metadata": {
    "slideshow": {
     "slide_type": "fragment"
    }
   },
   "outputs": [],
   "source": [
    "fib2(250)"
   ]
  },
  {
   "cell_type": "markdown",
   "metadata": {
    "slideshow": {
     "slide_type": "slide"
    }
   },
   "source": [
    "### Proof of Correctness for Recursive Algorithm fib1 \n",
    "\n",
    "__Theorem__: For all $n \\geq 0,$ fib1($n$) returns $F_n.$  \n",
    "<br>\n",
    "<br>"
   ]
  },
  {
   "cell_type": "markdown",
   "metadata": {
    "slideshow": {
     "slide_type": "fragment"
    }
   },
   "source": [
    "### Proof of Correctness for Iterative Algorithm fib2\n",
    "\n",
    "New proof requires choosing the right _loop invariant_.\n",
    "\n",
    "__Theorem__: For all $n \\geq 0$ and $j \\geq 0, j \\leq n$, the execution of fib2($n$) assigns the variable f[$j$] the value $F_j$ during the execution of the for loop with value $i=j.$\n",
    "\n",
    "![fib2](fib2.png)"
   ]
  },
  {
   "cell_type": "markdown",
   "metadata": {
    "slideshow": {
     "slide_type": "fragment"
    }
   },
   "source": [
    "### Running Time Analysis for fib2\n",
    "\n",
    "__Assumption__:  All arithmetic/logic operations have unit cost.\n",
    "\n",
    "\n"
   ]
  },
  {
   "cell_type": "markdown",
   "metadata": {
    "slideshow": {
     "slide_type": "fragment"
    }
   },
   "source": [
    "         __CONCLUSION__: Running time is _linear_ in $n$!"
   ]
  },
  {
   "cell_type": "code",
   "execution_count": null,
   "metadata": {
    "slideshow": {
     "slide_type": "slide"
    }
   },
   "outputs": [],
   "source": [
    "### EMPIRICAL RUNTIME ANALYSIS OF FIB2 -- LOW INPUTS\n",
    "rtime = [timeit.timeit(stmt='fib2({})'.format(n),globals=globals(),number=1000) for n in range(0,50)]    \n",
    "plt.plot(range(0,50), rtime, 'or')"
   ]
  },
  {
   "cell_type": "code",
   "execution_count": null,
   "metadata": {
    "slideshow": {
     "slide_type": "subslide"
    }
   },
   "outputs": [],
   "source": [
    "### EMPIRICAL RUNTIME ANALYSIS OF FIB2 - HIGH VALUES\n",
    "rtime = [timeit.timeit(stmt='fib2({})'.format(n),globals=globals(),number=10) for n in range(0,5000)]    \n",
    "plt.plot(range(0,5000), rtime, 'or')"
   ]
  },
  {
   "cell_type": "markdown",
   "metadata": {
    "slideshow": {
     "slide_type": "slide"
    }
   },
   "source": [
    "### A More Realistic Cost Model\n",
    "\n",
    "Under the basic model, summing two $n$-bits numbers has cost $1$, regardless of $n$!\n",
    "\n",
    "__Better model__: Summing two $n$-bits numbers requires cost $O(n)$.\n",
    "\n",
    "![fib2](fib2.png)\n",
    "\n",
    "__Running time of fib2:__ How much cost is occured in loop iteration $i$?\n"
   ]
  },
  {
   "cell_type": "markdown",
   "metadata": {
    "slideshow": {
     "slide_type": "slide"
    }
   },
   "source": [
    "### Other Resources\n",
    "\n",
    "Runtime is just one resourced consumed by the execution of an algorithm. More realistic models will account for other resources such as:\n",
    "- space,\n",
    "- communication,\n",
    "- randomness,\n",
    "- ...\n",
    "\n",
    "__Question__: Can you improve the space consumption of fib2?\n",
    "![fib2](fib2.png)\n"
   ]
  }
 ],
 "metadata": {
  "anaconda-cloud": {},
  "celltoolbar": "Slideshow",
  "kernelspec": {
   "display_name": "Python [conda root]",
   "language": "python",
   "name": "conda-root-py"
  },
  "language_info": {
   "codemirror_mode": {
    "name": "ipython",
    "version": 3
   },
   "file_extension": ".py",
   "mimetype": "text/x-python",
   "name": "python",
   "nbconvert_exporter": "python",
   "pygments_lexer": "ipython3",
   "version": "3.5.6"
  }
 },
 "nbformat": 4,
 "nbformat_minor": 4
}
