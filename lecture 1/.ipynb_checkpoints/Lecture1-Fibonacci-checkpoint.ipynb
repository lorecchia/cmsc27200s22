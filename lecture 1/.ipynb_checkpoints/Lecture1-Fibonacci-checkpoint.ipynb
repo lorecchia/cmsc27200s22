{
 "cells": [
  {
   "cell_type": "markdown",
   "metadata": {},
   "source": [
    "# Fibonacci Sequence\n",
    "\n",
    "__Recursive Definition__: The $n$th Fibonacci number $F_n$ is defined as\n",
    "$$\n",
    "F_n = \\begin{cases} \n",
    "        0 & n=0\\\\\n",
    "        1 & n=1\\\\\n",
    "        F_{n-1} + F_{n-2} & n > 1\n",
    "      \\end{cases}\n",
    "$$\n",
    "\n",
    "__Question__: Is this even a valid definition?\n",
    "__Rate of Growth__: How fast does $F_n$ grow?\n"
   ]
  },
  {
   "cell_type": "markdown",
   "metadata": {},
   "source": [
    "## Computing $F_n$\n",
    "\n",
    "__Problem__: Design algorithm that on _input_ $n$ returns _output_ $F_n$.\n",
    "\n",
    "- Algorithm Description\n",
    "   \n",
    "    \n",
    "- Algorithm Analysis\n",
    "    - Proof of Correctness\n",
    "    - Analysis of Running Time\n"
   ]
  },
  {
   "cell_type": "markdown",
   "metadata": {},
   "source": [
    "### Algorithm Description\n",
    "\n",
    "Description can be _pseudocode_ or _prose_ (consider trade-offs)\n",
    "\n",
    "__Prose__: implement definition of $F_n$.\n",
    "\n",
    "__No description by example__: start with $F_0=0$ and $F_1=1$. Compute $F_2 = F_0+ F_1= 0+1$.And $F_3 = F_1 +F_2 = 1+1=2.$ Keep going like this until $F_n.$ \n",
    "\n",
    "__Pseudocode__:\n",
    "![fib1](./fib1.png)\n",
    "\n",
    "Even nicer with line numbers!"
   ]
  },
  {
   "cell_type": "code",
   "execution_count": null,
   "metadata": {},
   "outputs": [],
   "source": [
    "### PYTHON IMPLEMENTATION\n",
    "\n",
    "import numpy as np\n",
    "import matplotlib.pyplot as plt\n",
    "import timeit\n",
    "import math\n",
    "\n",
    "def fib1(n):\n",
    "    if n == 0:\n",
    "        return 0\n",
    "    elif n == 1:\n",
    "        return 1\n",
    "    else:\n",
    "        return fib1(n-1) + fib1(n-2)"
   ]
  },
  {
   "cell_type": "code",
   "execution_count": 9,
   "metadata": {},
   "outputs": [
    {
     "data": {
      "text/plain": [
       "[0,\n",
       " 1,\n",
       " 1,\n",
       " 2,\n",
       " 3,\n",
       " 5,\n",
       " 8,\n",
       " 13,\n",
       " 21,\n",
       " 34,\n",
       " 55,\n",
       " 89,\n",
       " 144,\n",
       " 233,\n",
       " 377,\n",
       " 610,\n",
       " 987,\n",
       " 1597,\n",
       " 2584,\n",
       " 4181,\n",
       " 6765,\n",
       " 10946,\n",
       " 17711,\n",
       " 28657,\n",
       " 46368,\n",
       " 75025,\n",
       " 121393,\n",
       " 196418,\n",
       " 317811,\n",
       " 514229]"
      ]
     },
     "execution_count": 9,
     "metadata": {},
     "output_type": "execute_result"
    }
   ],
   "source": [
    "### TEST RUN\n",
    "fib = [fib1(n) for n in range(0,30)]\n",
    "fib"
   ]
  },
  {
   "cell_type": "markdown",
   "metadata": {},
   "source": [
    "### Proof of Correctness\n",
    "\n",
    "__Sketch of Proof:__ The algorithm implements the recursive definition of $F_n.$\n",
    "\n",
    "__Mathematical Proof:__ \n",
    "\n",
    "__Theorem__: For all $n \\geq 0,$ fib1($n$) returns $F_n.$  \n",
    "__Proof__: We prove this statement by (strong) induction.  \n",
    "The statement is true for $n=0$ and $n=1$ as encoded by the first two lines of its description.  \n",
    "For an arbitrary $n > 1,$ fib1($n$) executes the last line of the algorithm, which recursively computes fib1($n-1$) and fib1($n-2$). By the inductive hypothesis, the call fib1($n-1$) returns $F_{n-1}$ and the call fib1($n-2$) returns $F_{n-2}$. Hence, the execution of the last line returns $F_{n-1} + F_{n-2}$, which equals $F_n$ by definition.\n",
    "\n",
    "\n",
    "__QUESTION__: which level of detail is more appropriate?"
   ]
  },
  {
   "cell_type": "markdown",
   "metadata": {},
   "source": [
    "### Analysis of Running Time"
   ]
  },
  {
   "cell_type": "code",
   "execution_count": 6,
   "metadata": {},
   "outputs": [
    {
     "name": "stdout",
     "output_type": "stream",
     "text": [
      "CPU times: user 23.6 ms, sys: 1.1 ms, total: 24.7 ms\n",
      "Wall time: 24.1 ms\n",
      "CPU times: user 34 ms, sys: 1.06 ms, total: 35 ms\n",
      "Wall time: 34.7 ms\n",
      "CPU times: user 53.5 ms, sys: 757 µs, total: 54.2 ms\n",
      "Wall time: 54.4 ms\n",
      "CPU times: user 85.7 ms, sys: 574 µs, total: 86.2 ms\n",
      "Wall time: 86.5 ms\n",
      "CPU times: user 140 ms, sys: 1.04 ms, total: 141 ms\n",
      "Wall time: 141 ms\n"
     ]
    },
    {
     "data": {
      "text/plain": [
       "196418"
      ]
     },
     "execution_count": 6,
     "metadata": {},
     "output_type": "execute_result"
    }
   ],
   "source": [
    "### TEST TIMES FOR A FEW n\n",
    "%time fib1(23)\n",
    "%time fib1(24)\n",
    "%time fib1(25)\n",
    "%time fib1(26)\n",
    "%time fib1(27)"
   ]
  },
  {
   "cell_type": "markdown",
   "metadata": {},
   "source": [
    "These times depend on the machine setup and even change on reruns. \n",
    "Agree on __unit-cost__ operations. For instance, let us assume that all arithmetic/logic operations have unit cost.\n",
    "\n",
    "Let $T(n)$ be the cost of running fib1 on input $n$. \n",
    "\n",
    "![fib1](./fib1.png)"
   ]
  },
  {
   "cell_type": "markdown",
   "metadata": {},
   "source": [
    "![Recursive Tree](./rectree.png)"
   ]
  },
  {
   "cell_type": "code",
   "execution_count": 5,
   "metadata": {},
   "outputs": [
    {
     "data": {
      "text/plain": [
       "[<matplotlib.lines.Line2D at 0x7fd8c0259be0>]"
      ]
     },
     "execution_count": 5,
     "metadata": {},
     "output_type": "execute_result"
    },
    {
     "data": {
      "image/png": "[encoded data removed]",
      "text/plain": [
       "<matplotlib.figure.Figure at 0x7fd8bf190e80>"
      ]
     },
     "metadata": {
      "needs_background": "light"
     },
     "output_type": "display_data"
    }
   ],
   "source": [
    "rtime = [timeit.timeit(stmt='fib1({})'.format(n),globals=globals(),number=1) for n in range(0,35)]    \n",
    "plt.plot(range(0,35), rtime, 'or')"
   ]
  },
  {
   "cell_type": "code",
   "execution_count": null,
   "metadata": {},
   "outputs": [],
   "source": [
    "\n",
    "ratio = [rtime[n+1]/rtime[n] for n in range(0,34)]\n",
    "plt.plot(range(0,34), ratio, 'or')"
   ]
  },
  {
   "cell_type": "code",
   "execution_count": 10,
   "metadata": {},
   "outputs": [
    {
     "ename": "NameError",
     "evalue": "name 'ratio' is not defined",
     "output_type": "error",
     "traceback": [
      "\u001b[0;31m---------------------------------------------------------------------------\u001b[0m",
      "\u001b[0;31mNameError\u001b[0m                                 Traceback (most recent call last)",
      "\u001b[0;32m<ipython-input-10-e1e89849d971>\u001b[0m in \u001b[0;36m<module>\u001b[0;34m\u001b[0m\n\u001b[0;32m----> 1\u001b[0;31m \u001b[0mratio\u001b[0m\u001b[0;34m[\u001b[0m\u001b[0;34m-\u001b[0m\u001b[0;36m10\u001b[0m\u001b[0;34m:\u001b[0m\u001b[0;34m-\u001b[0m\u001b[0;36m1\u001b[0m\u001b[0;34m]\u001b[0m\u001b[0;34m\u001b[0m\u001b[0m\n\u001b[0m",
      "\u001b[0;31mNameError\u001b[0m: name 'ratio' is not defined"
     ]
    }
   ],
   "source": [
    "ratio[-10:-1]"
   ]
  },
  {
   "cell_type": "code",
   "execution_count": null,
   "metadata": {},
   "outputs": [],
   "source": [
    "(1+math.sqrt(5))/2"
   ]
  },
  {
   "cell_type": "markdown",
   "metadata": {},
   "source": [
    "## An Improved Algorithm\n",
    "\n",
    "__Simple idea__: Compute each intermediate $F_i$ only once.\n",
    "\n",
    "![fib2](fib2.png)"
   ]
  },
  {
   "cell_type": "markdown",
   "metadata": {},
   "source": [
    "### Proof of Correctness for fib1\n",
    "\n",
    "__Theorem__: For all $n \\geq 0,$ fib1($n$) returns $F_n.$  \n",
    "\n",
    "- slide pointer\n",
    "- RISE\n",
    "- writing\n",
    "- overleaf templates and pseudocode examples"
   ]
  }
 ],
 "metadata": {
  "anaconda-cloud": {},
  "kernelspec": {
   "display_name": "Python 3.5.6 64-bit ('anaconda': virtualenv)",
   "language": "python",
   "name": "python35664bitanacondavirtualenv125b07916515498a96cb96c7ce881b05"
  },
  "language_info": {
   "codemirror_mode": {
    "name": "ipython",
    "version": 3
   },
   "file_extension": ".py",
   "mimetype": "text/x-python",
   "name": "python",
   "nbconvert_exporter": "python",
   "pygments_lexer": "ipython3",
   "version": "3.5.6"
  }
 },
 "nbformat": 4,
 "nbformat_minor": 4
}
